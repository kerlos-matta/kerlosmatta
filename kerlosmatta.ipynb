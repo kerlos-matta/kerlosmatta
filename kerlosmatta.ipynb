{
 "cells": [
  {
   "cell_type": "markdown",
   "id": "6057504f-f52b-49eb-a22e-7520a39cc20e",
   "metadata": {},
   "source": [
    "# Exercise No.1 KERO"
   ]
  },
  {
   "cell_type": "markdown",
   "id": "a81f4282-2521-4d47-85ea-d9e6cd26dcac",
   "metadata": {},
   "source": [
    "**1- Draw Rhombus \"معين\"**"
   ]
  },
  {
   "cell_type": "code",
   "execution_count": 3,
   "id": "e0c41e02-a074-4121-81b4-a7954d968163",
   "metadata": {},
   "outputs": [
    {
     "name": "stdout",
     "output_type": "stream",
     "text": [
      "    *\n",
      "   ***\n",
      "  *****\n",
      " *******\n",
      "*********\n",
      " *******\n",
      "  *****\n",
      "   ***\n",
      "    *\n"
     ]
    }
   ],
   "source": [
    "def draw_rhombus(n):\n",
    "    for i in range(n):\n",
    "        print(\" \" * (n - i - 1) + \"*\" * (2 * i + 1))\n",
    "    for i in range(n - 2, -1, -1):\n",
    "        print(\" \" * (n - i - 1) + \"*\" * (2 * i + 1))\n",
    "\n",
    " \n",
    "draw_rhombus(5)\n"
   ]
  },
  {
   "attachments": {
    "4f2e9323-122d-4ab9-a9b6-f1b47e02d98e.png": {
     "image/png": "[encoded data removed]"
    }
   },
   "cell_type": "markdown",
   "id": "f684bc97-d3be-4b0b-a682-16c66911ddb3",
   "metadata": {},
   "source": [
    "**2- write the next equation** \n",
    "\n",
    "![image.png](attachment:4f2e9323-122d-4ab9-a9b6-f1b47e02d98e.png)\n",
    "\n",
    "if x = 10 ,the answer Should be 10.1999 "
   ]
  },
  {
   "cell_type": "code",
   "execution_count": 27,
   "id": "430ac928-c1f7-4382-96f9-13f33f20be29",
   "metadata": {},
   "outputs": [
    {
     "name": "stdin",
     "output_type": "stream",
     "text": [
      "Enter value of x:  10\n"
     ]
    },
    {
     "name": "stdout",
     "output_type": "stream",
     "text": [
      "Result: 10.199992960001408\n"
     ]
    }
   ],
   "source": [
    "x = float(input(\"Enter value of x: \"))\n",
    "\n",
    "numerator = x**3 + 2*x - 0.5*x**(-3)\n",
    "denominator = x**2 + 2 * 10**(-5)\n",
    "\n",
    "result = numerator / denominator\n",
    "\n",
    "print(\"Result:\", result)\n"
   ]
  },
  {
   "cell_type": "markdown",
   "id": "8f17e2c0-ba2c-4cd8-8b70-ae3caf4e8e6f",
   "metadata": {},
   "source": [
    "**3-correct**"
   ]
  },
  {
   "cell_type": "code",
   "execution_count": 7,
   "id": "a064fb79-6936-4494-9036-7310153f886d",
   "metadata": {},
   "outputs": [
    {
     "name": "stdout",
     "output_type": "stream",
     "text": [
      "50\n"
     ]
    }
   ],
   "source": [
    "x = 50\n",
    "y = 95\n",
    "c = x            \n",
    "z = y - c       \n",
    "z += 5          \n",
    "print(z)        \n"
   ]
  },
  {
   "cell_type": "markdown",
   "id": "7a8edb87-aa81-4eed-8f87-a764c9f79e1f",
   "metadata": {},
   "source": [
    "**4- Make a \"Generic\" Code that by taking any Sentence as an input it will return two Sentences which are splitted by the Middle Letter.**\r\n",
    "\r\n",
    "Examples :- input = \"harpy\" ,output= [\"ha\" ,\"py\"]\r\n",
    "\r\n",
    "input=\"Mastery\" ,output=[\"Mas\",\"ery\"]\r\n",
    "\r\n",
    "input=\"He was Lucky\" ,output=['He wa', ' Lucky']"
   ]
  },
  {
   "cell_type": "code",
   "execution_count": 13,
   "id": "be5840f6-6009-4200-b1dc-541dcdc1e2f0",
   "metadata": {},
   "outputs": [
    {
     "name": "stdout",
     "output_type": "stream",
     "text": [
      "['har', 'py']\n",
      "['Mast', 'ery']\n",
      "['He was', ' Lucky']\n"
     ]
    }
   ],
   "source": [
    "def split_by_middle(sentence):\n",
    "    mid = len(sentence) // 2\n",
    "    if len(sentence) % 2 != 0:\n",
    "        mid += 1\n",
    "    return [sentence[:mid], sentence[mid:]]\n",
    "    \n",
    "print(split_by_middle(\"harpy\"))      \n",
    "print(split_by_middle(\"Mastery\"))     \n",
    "print(split_by_middle(\"He was Lucky\"))\n"
   ]
  },
  {
   "cell_type": "markdown",
   "id": "1e79b707-4858-4f7e-ae10-d696793e913c",
   "metadata": {},
   "source": [
    "**5-Write a Python program which accepts the user's first and last name and print them in reverse order with a space between them.**"
   ]
  },
  {
   "cell_type": "code",
   "execution_count": 17,
   "id": "b6b9cf6f-6239-478f-9517-efc3173ae53e",
   "metadata": {},
   "outputs": [
    {
     "name": "stdin",
     "output_type": "stream",
     "text": [
      "Enter your first name:  khalil\n",
      "Enter your last name:  kero\n"
     ]
    },
    {
     "name": "stdout",
     "output_type": "stream",
     "text": [
      "kero khalil\n"
     ]
    }
   ],
   "source": [
    "first_name = input(\"Enter your first name: \")\n",
    "last_name = input(\"Enter your last name: \")\n",
    "\n",
    "print(last_name + \" \" + first_name)\n"
   ]
  },
  {
   "cell_type": "markdown",
   "id": "c26fd036-3480-4275-83bb-787191b822c9",
   "metadata": {},
   "source": [
    "**6-Write a Python program which accepts a sequence of comma-separated numbers from user and generate a list and a tuple with those numbers.**"
   ]
  },
  {
   "cell_type": "code",
   "execution_count": 21,
   "id": "cc443e87-6275-41d9-aadd-48556d671404",
   "metadata": {},
   "outputs": [
    {
     "name": "stdin",
     "output_type": "stream",
     "text": [
      "Enter a number:  20\n"
     ]
    },
    {
     "name": "stdout",
     "output_type": "stream",
     "text": [
      "Square of the number is: 400.0\n"
     ]
    }
   ],
   "source": [
    "num = float(input(\"Enter a number: \"))\n",
    "\n",
    "square = num ** 2\n",
    "\n",
    "print(\"Square of the number is:\", square)\n"
   ]
  },
  {
   "cell_type": "markdown",
   "id": "22613e62-df1a-465b-b06f-79d9f773a2c2",
   "metadata": {},
   "source": [
    "**7-Write a Python program which accepts width and height of Rectangle and Calculate its area**"
   ]
  },
  {
   "cell_type": "code",
   "execution_count": 25,
   "id": "a2777543-1909-412c-9458-7b6747b9775a",
   "metadata": {},
   "outputs": [
    {
     "name": "stdin",
     "output_type": "stream",
     "text": [
      "Enter numbers separated by commas:  5,10,15\n"
     ]
    },
    {
     "name": "stdout",
     "output_type": "stream",
     "text": [
      "Sum of numbers: 30.0\n"
     ]
    }
   ],
   "source": [
    "\n",
    "numbers = input(\"Enter numbers separated by commas: \")\n",
    "\n",
    "num_list = [float(num) for num in numbers.split(\",\")]\n",
    "\n",
    "total = sum(num_list)\n",
    "\n",
    "print(\"Sum of numbers:\", total)\n"
   ]
  }
 ],
 "metadata": {
  "kernelspec": {
   "display_name": "Python [conda env:base] *",
   "language": "python",
   "name": "conda-base-py"
  },
  "language_info": {
   "codemirror_mode": {
    "name": "ipython",
    "version": 3
   },
   "file_extension": ".py",
   "mimetype": "text/x-python",
   "name": "python",
   "nbconvert_exporter": "python",
   "pygments_lexer": "ipython3",
   "version": "3.12.7"
  }
 },
 "nbformat": 4,
 "nbformat_minor": 5
}
